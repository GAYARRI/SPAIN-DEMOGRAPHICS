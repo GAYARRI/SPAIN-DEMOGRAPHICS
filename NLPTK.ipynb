{
 "cells": [
  {
   "cell_type": "markdown",
   "metadata": {},
   "source": [
    "---\n",
    "\n",
    "_You are currently looking at **version 1.0** of this notebook. To download notebooks and datafiles, as well as get help on Jupyter notebooks in the Coursera platform, visit the [Jupyter Notebook FAQ](https://www.coursera.org/learn/python-text-mining/resources/d9pwm) course resource._\n",
    "\n",
    "---"
   ]
  },
  {
   "cell_type": "markdown",
   "metadata": {},
   "source": [
    "# Assignment 4 - Document Similarity & Topic Modelling"
   ]
  },
  {
   "cell_type": "markdown",
   "metadata": {},
   "source": [
    "## Part 1 - Document Similarity\n",
    "\n",
    "For the first part of this assignment, you will complete the functions `doc_to_synsets` and `similarity_score` which will be used by `document_path_similarity` to find the path similarity between two documents.\n",
    "\n",
    "The following functions are provided:\n",
    "* **`convert_tag:`** converts the tag given by `nltk.pos_tag` to a tag used by `wordnet.synsets`. You will need to use this function in `doc_to_synsets`.\n",
    "* **`document_path_similarity:`** computes the symmetrical path similarity between two documents by finding the synsets in each document using `doc_to_synsets`, then computing similarities using `similarity_score`.\n",
    "\n",
    "You will need to finish writing the following functions:\n",
    "* **`doc_to_synsets:`** returns a list of synsets in document. This function should first tokenize and part of speech tag the document using `nltk.word_tokenize` and `nltk.pos_tag`. Then it should find each tokens corresponding synset using `wn.synsets(token, wordnet_tag)`. The first synset match should be used. If there is no match, that token is skipped.\n",
    "* **`similarity_score:`** returns the normalized similarity score of a list of synsets (s1) onto a second list of synsets (s2). For each synset in s1, find the synset in s2 with the largest similarity value. Sum all of the largest similarity values together and normalize this value by dividing it by the number of largest similarity values found. Be careful with data types, which should be floats. Missing values should be ignored.\n",
    "\n",
    "Once `doc_to_synsets` and `similarity_score` have been completed, submit to the autograder which will run `test_document_path_similarity` to test that these functions are running correctly. \n",
    "\n",
    "*Do not modify the functions `convert_tag`, `document_path_similarity`, and `test_document_path_similarity`.*"
   ]
  },
  {
   "cell_type": "code",
   "execution_count": 1,
   "metadata": {
    "scrolled": true
   },
   "outputs": [
    {
     "name": "stdout",
     "output_type": "stream",
     "text": [
      "[nltk_data] Downloading package averaged_perceptron_tagger to\n",
      "[nltk_data]     /home/jovyan/nltk_data...\n",
      "[nltk_data]   Package averaged_perceptron_tagger is already up-to-\n",
      "[nltk_data]       date!\n",
      "[nltk_data] Downloading package punkt to /home/jovyan/nltk_data...\n",
      "[nltk_data]   Package punkt is already up-to-date!\n",
      "[nltk_data] Downloading package wordnet to /home/jovyan/nltk_data...\n",
      "[nltk_data]   Package wordnet is already up-to-date!\n"
     ]
    }
   ],
   "source": [
    "import numpy as np\n",
    "import nltk\n",
    "from nltk.corpus import wordnet as wn\n",
    "import pandas as pd\n",
    "from nltk.stem.porter import PorterStemmer\n",
    "from nltk.corpus import stopwords\n",
    "from nltk.stem import WordNetLemmatizer\n",
    "from nltk import pos_tag, word_tokenize\n",
    "\n",
    "nltk.download('averaged_perceptron_tagger')\n",
    "nltk.download('punkt')\n",
    "nltk.download('wordnet')\n",
    "\n",
    "def convert_tag(tag):  \n",
    "    \"\"\"Convert the tag given by nltk.pos_tag to the tag used by wordnet.synsets\"\"\"\n",
    "    \n",
    "    tag_dict = {'N': 'n', 'J': 'a', 'R': 'r', 'V': 'v'}\n",
    "    try:\n",
    "        return tag_dict[tag[0]]\n",
    "    except KeyError:\n",
    "        return None\n",
    "    \n",
    "def doc_to_synsets(doc):\n",
    "    \n",
    "    \n",
    "    \"\"\"\n",
    "    Returns a list of synsets in document.\n",
    "\n",
    "    Tokenizes and tags the words in the document doc.\n",
    "    Then finds the first synset for each word/tag combination.\n",
    "    If a synset is not found for that combination it is skipped.\n",
    "\n",
    "    Args:\n",
    "        doc: string to be converted\n",
    "\n",
    "    Returns:\n",
    "        list of synsets\n",
    "\n",
    "    Example:\n",
    "        doc_to_synsets('Fish are nvqjp friends.')\n",
    "        Out: [Synset('fish.n.01'), Synset('be.v.01'), Synset('friend.n.01')]\n",
    "    \"\"\"\n",
    "    \n",
    "\n",
    "    # Your Code Here\n",
    "    \n",
    "    tokens = word_tokenize(doc+' ')\n",
    "        \n",
    "    l = []\n",
    "    tags = nltk.pos_tag([tokens[0] + ' ']) if len(tokens) == 1 else nltk.pos_tag(tokens)\n",
    "        \n",
    "    for token, tag in zip(tokens, tags):\n",
    "        syntag = convert_tag(tag[1])\n",
    "        syns = wn.synsets(token, syntag)\n",
    "        if (len(syns) > 0):\n",
    "            \n",
    "            l.append(syns[0])    \n",
    "    return l  \n",
    "    \n",
    "    \n",
    "def similarity_score(s1, s2):\n",
    "    \"\"\"\n",
    "    Calculate the normalized similarity score of s1 onto s2\n",
    "\n",
    "    For each synset in s1, finds the synset in s2 with the largest similarity value.\n",
    "    Sum of all of the largest similarity values and normalize this value by dividing it by the\n",
    "    number of largest similarity values found.\n",
    "\n",
    "    Args:\n",
    "        s1, s2: list of synsets from doc_to_synsets\n",
    "\n",
    "    Returns:\n",
    "        normalized similarity score of s1 onto s2\n",
    "\n",
    "    Example:\n",
    "        synsets1 = doc_to_synsets('I like cats')\n",
    "        synsets2 = doc_to_synsets('I like dogs')\n",
    "        similarity_score(synsets1, synsets2)\n",
    "        Out: 0.73333333333333339\n",
    "    \"\"\"\n",
    "    \n",
    "    \n",
    "    # Your Code Here\n",
    "        \n",
    "    list=[]\n",
    "    listparc=[]\n",
    "    cont=0\n",
    "    \n",
    "     \n",
    "    sum=0\n",
    "    for k in s1:\n",
    "        for j in s2:\n",
    "            if k.path_similarity(j) is None :\n",
    "                continue\n",
    "            else:    \n",
    "                list.append(k.path_similarity(j))        \n",
    "        if list:\n",
    "            listparc.append(max(list))\n",
    "            list=[]\n",
    "        else:\n",
    "            continue\n",
    "            list=[]\n",
    "    for k in range(len(listparc)):\n",
    "        sum=sum+listparc[k]\n",
    "    if len(listparc)>0:\n",
    "        norm=sum/len(listparc)\n",
    "    else: norm=sum\n",
    "    \n",
    "    return(norm) # Your Answer Here\n",
    "\n",
    "\n",
    "\n",
    "\n",
    "def document_path_similarity(doc1, doc2):   \n",
    "    \"\"\"Finds the symmetrical similarity between doc1 and doc2\"\"\"\n",
    "\n",
    "    synsets1 = doc_to_synsets(doc1)\n",
    "    synsets2 = doc_to_synsets(doc2)\n",
    "\n",
    "    return (similarity_score(synsets1, synsets2) + similarity_score(synsets2, synsets1)) / 2"
   ]
  },
  {
   "cell_type": "markdown",
   "metadata": {},
   "source": [
    "##### test_document_path_similarity\n",
    "\n",
    "Use this function to check if doc_to_synsets and similarity_score are correct.\n",
    "\n",
    "*This function should return the similarity score as a float.*"
   ]
  },
  {
   "cell_type": "markdown",
   "metadata": {},
   "source": []
  },
  {
   "cell_type": "code",
   "execution_count": 2,
   "metadata": {},
   "outputs": [
    {
     "data": {
      "text/plain": [
       "0.554265873015873"
      ]
     },
     "execution_count": 2,
     "metadata": {},
     "output_type": "execute_result"
    }
   ],
   "source": [
    "def test_document_path_similarity():\n",
    "    doc1 = \"This is a function to test document_path_similarity.\"\n",
    "    doc2 = \"Use this function to see if your code in doc_to_synsets \\\n",
    "and similarity_score is correct!'\"\n",
    "    \n",
    "    return document_path_similarity(doc1, doc2)\n",
    "\n",
    "test_document_path_similarity()\n"
   ]
  },
  {
   "cell_type": "markdown",
   "metadata": {},
   "source": [
    "<br>\n",
    "___\n",
    "`paraphrases` is a DataFrame which contains the following columns: `Quality`, `D1`, and `D2`.\n",
    "\n",
    "`Quality` is an indicator variable which indicates if the two documents `D1` and `D2` are paraphrases of one another (1 for paraphrase, 0 for not paraphrase)."
   ]
  },
  {
   "cell_type": "code",
   "execution_count": 3,
   "metadata": {
    "collapsed": true
   },
   "outputs": [],
   "source": [
    "# Use this dataframe for questions most_similar_docs and label_accuracy\n",
    "\n",
    "paraphrases = pd.read_csv('paraphrases.csv')\n",
    "\n"
   ]
  },
  {
   "cell_type": "markdown",
   "metadata": {},
   "source": [
    "___\n",
    "\n",
    "### most_similar_docs\n",
    "\n",
    "Using `document_path_similarity`, find the pair of documents in paraphrases which has the maximum similarity score.\n",
    "\n",
    "*This function should return a tuple `(D1, D2, similarity_score)`*"
   ]
  },
  {
   "cell_type": "code",
   "execution_count": 4,
   "metadata": {},
   "outputs": [
    {
     "data": {
      "text/plain": [
       "('\"Indeed, Iran should be put on notice that efforts to try to remake Iraq in their image will be aggressively put down,\" he said.',\n",
       " '\"Iran should be on notice that attempts to remake Iraq in Iran\\'s image will be aggressively put down,\" he said.\\n',\n",
       " 0.9753086419753086)"
      ]
     },
     "execution_count": 4,
     "metadata": {},
     "output_type": "execute_result"
    }
   ],
   "source": [
    "def most_similar_docs():\n",
    "       \n",
    "    # Your Code Here\n",
    "    scores= []\n",
    "    \n",
    "    for k in range(len(paraphrases)):           #range(len(paraphrases)):\n",
    "        doc1=paraphrases.iloc[k,1]\n",
    "        doc2=paraphrases.iloc[k,2]\n",
    "        scores.append(document_path_similarity(doc1, doc2))\n",
    "    \n",
    "    tmp = max(scores)\n",
    "    sol = scores.index(tmp)\n",
    "\n",
    "    \n",
    "     \n",
    "    return(paraphrases.iloc[sol,1],paraphrases.iloc[sol,2],scores[sol]) # Your Answer Here\n",
    "\n",
    "\n",
    "most_similar_docs()"
   ]
  },
  {
   "cell_type": "markdown",
   "metadata": {},
   "source": [
    "### label_accuracy\n",
    "\n",
    "Provide labels for the twenty pairs of documents by computing the similarity for each pair using `document_path_similarity`. Let the classifier rule be that if the score is greater than 0.75, label is paraphrase (1), else label is not paraphrase (0). Report accuracy of the classifier using scikit-learn's accuracy_score.\n",
    "\n",
    "*This function should return a float.*"
   ]
  },
  {
   "cell_type": "code",
   "execution_count": 5,
   "metadata": {},
   "outputs": [
    {
     "data": {
      "text/plain": [
       "0.80000000000000004"
      ]
     },
     "execution_count": 5,
     "metadata": {},
     "output_type": "execute_result"
    }
   ],
   "source": [
    "def label_accuracy():\n",
    "        \n",
    "    from sklearn.metrics import accuracy_score\n",
    "    \n",
    "    # Your Code Here\n",
    "    \n",
    "    label=[]\n",
    "    \n",
    "    for k in range(len(paraphrases)):\n",
    "        \n",
    "        doc1=paraphrases.iloc[k,1]\n",
    "        doc2=paraphrases.iloc[k,2]\n",
    "        ratio=document_path_similarity(doc1, doc2)\n",
    "        if ratio>0.75:\n",
    "            paraphrases.loc[k,'Label']=1\n",
    "        else: \n",
    "            paraphrases.loc[k,'Label']=0  \n",
    "            \n",
    "        y_true=paraphrases.iloc[:,0].tolist()\n",
    "        y_predicted=paraphrases.iloc[:,3].tolist()\n",
    "        \n",
    "             \n",
    "    return(accuracy_score(y_true,y_predicted)) # Your Answer Here\n",
    "\n",
    "label_accuracy()"
   ]
  },
  {
   "cell_type": "markdown",
   "metadata": {},
   "source": [
    "## Part 2 - Topic Modelling\n",
    "\n",
    "For the second part of this assignment, you will use Gensim's LDA (Latent Dirichlet Allocation) model to model topics in `newsgroup_data`. You will first need to finish the code in the cell below by using gensim.models.ldamodel.LdaModel constructor to estimate LDA model parameters on the corpus, and save to the variable `ldamodel`. Extract 10 topics using `corpus` and `id_map`, and with `passes=25` and `random_state=34`."
   ]
  },
  {
   "cell_type": "code",
   "execution_count": 52,
   "metadata": {
    "collapsed": true
   },
   "outputs": [],
   "source": [
    "import pickle\n",
    "import gensim\n",
    "from sklearn.feature_extraction.text import CountVectorizer\n",
    "\n",
    "# Load the list of documents\n",
    "with open('newsgroups', 'rb') as f:\n",
    "    newsgroup_data = pickle.load(f)\n",
    "\n",
    "\n",
    "# Use CountVectorizor to find three letter tokens, remove stop_words, \n",
    "# remove tokens that don't appear in at least 20 documents,\n",
    "# remove tokens that appear in more than 20% of the documents\n",
    "vect = CountVectorizer(max_df=50,stop_words='english', \n",
    "                       token_pattern='(?u)\\\\b\\\\w\\\\w\\\\w+\\\\b')\n",
    "# Fit and transform\n",
    "X = vect.fit_transform(newsgroup_data)\n",
    "\n",
    "# Convert sparse matrix to gensim corpus.\n",
    "corpus = gensim.matutils.Sparse2Corpus(X, documents_columns=False)\n",
    "\n",
    "# Mapping from word IDs to words (To be used in LdaModel's id2word parameter)\n",
    "id_map = dict((v, k) for k, v in vect.vocabulary_.items())\n"
   ]
  },
  {
   "cell_type": "code",
   "execution_count": 53,
   "metadata": {
    "collapsed": true
   },
   "outputs": [],
   "source": [
    "# Use the gensim.models.ldamodel.LdaModel constructor to estimate \n",
    "# LDA model parameters on the corpus, and save to the variable `ldamodel`\n",
    "\n",
    "# Your code here:\n",
    "ldamodel=gensim.models.ldamodel.LdaModel(corpus,num_topics=10,id2word=id_map,passes=25,random_state=34)"
   ]
  },
  {
   "cell_type": "markdown",
   "metadata": {},
   "source": [
    "### lda_topics\n",
    "\n",
    "Using `ldamodel`, find a list of the 10 topics and the most significant 10 words in each topic. This should be structured as a list of 10 tuples where each tuple takes on the form:\n",
    "\n",
    "`(9, '0.068*\"space\" + 0.036*\"nasa\" + 0.021*\"science\" + 0.020*\"edu\" + 0.019*\"data\" + 0.017*\"shuttle\" + 0.015*\"launch\" + 0.015*\"available\" + 0.014*\"center\" + 0.014*\"sci\"')`\n",
    "\n",
    "for example.\n",
    "\n",
    "*This function should return a list of tuples.*"
   ]
  },
  {
   "cell_type": "code",
   "execution_count": 54,
   "metadata": {
    "scrolled": true
   },
   "outputs": [
    {
     "data": {
      "text/plain": [
       "[(0,\n",
       "  '0.012*\"disk\" + 0.009*\"drives\" + 0.009*\"scsi\" + 0.008*\"controller\" + 0.006*\"bios\" + 0.006*\"rom\" + 0.005*\"floppy\" + 0.004*\"feature\" + 0.003*\"supports\" + 0.003*\"cable\"'),\n",
       " (1,\n",
       "  '0.002*\"period\" + 0.002*\"yeast\" + 0.002*\"national\" + 0.002*\"shots\" + 0.002*\"enviroleague\" + 0.002*\"rangers\" + 0.001*\"goal\" + 0.001*\"sequence\" + 0.001*\"shuttle\" + 0.001*\"science\"'),\n",
       " (2,\n",
       "  '0.005*\"cancer\" + 0.004*\"research\" + 0.003*\"atheism\" + 0.003*\"center\" + 0.003*\"science\" + 0.003*\"university\" + 0.003*\"religion\" + 0.002*\"argument\" + 0.002*\"medical\" + 0.002*\"evidence\"'),\n",
       " (3,\n",
       "  '0.002*\"hockey\" + 0.002*\"nhl\" + 0.002*\"switch\" + 0.002*\"product\" + 0.001*\"food\" + 0.001*\"motherboard\" + 0.001*\"hey\" + 0.001*\"light\" + 0.001*\"modem\" + 0.001*\"humans\"'),\n",
       " (4,\n",
       "  '0.007*\"nasa\" + 0.005*\"ftp\" + 0.003*\"sci\" + 0.003*\"pick\" + 0.003*\"atheism\" + 0.003*\"anonymous\" + 0.003*\"faq\" + 0.003*\"posts\" + 0.002*\"alt\" + 0.002*\"access\"'),\n",
       " (5,\n",
       "  '0.004*\"monitor\" + 0.003*\"kings\" + 0.003*\"video\" + 0.003*\"hockey\" + 0.003*\"went\" + 0.002*\"vga\" + 0.002*\"screen\" + 0.002*\"flames\" + 0.002*\"switch\" + 0.002*\"puck\"'),\n",
       " (6,\n",
       "  '0.003*\"keyboard\" + 0.003*\"chi\" + 0.003*\"pitt\" + 0.002*\"wsh\" + 0.002*\"bos\" + 0.002*\"det\" + 0.002*\"tor\" + 0.002*\"nyi\" + 0.002*\"nyr\" + 0.002*\"banks\"'),\n",
       " (7,\n",
       "  '0.004*\"000\" + 0.004*\"hit\" + 0.003*\"runs\" + 0.003*\"pitching\" + 0.003*\"average\" + 0.003*\"500\" + 0.002*\"pitcher\" + 0.002*\"cubs\" + 0.002*\"san\" + 0.002*\"braves\"'),\n",
       " (8,\n",
       "  '0.005*\"bus\" + 0.003*\"windows\" + 0.002*\"rsi\" + 0.002*\"typing\" + 0.002*\"exercises\" + 0.002*\"tool\" + 0.002*\"motherboard\" + 0.002*\"laser\" + 0.002*\"islam\" + 0.002*\"machine\"'),\n",
       " (9,\n",
       "  '0.006*\"ground\" + 0.003*\"oil\" + 0.003*\"april\" + 0.003*\"brake\" + 0.003*\"chip\" + 0.002*\"grounding\" + 0.002*\"vram\" + 0.002*\"simms\" + 0.002*\"conductor\" + 0.002*\"mission\"')]"
      ]
     },
     "execution_count": 54,
     "metadata": {},
     "output_type": "execute_result"
    }
   ],
   "source": [
    "def lda_topics():\n",
    "    # Your Code Here\n",
    "    sal=ldamodel.print_topics(num_topics=10,num_words=10)\n",
    "    return(sal) # Your Answer Here\n",
    "lda_topics()"
   ]
  },
  {
   "cell_type": "markdown",
   "metadata": {},
   "source": [
    "### topic_distribution\n",
    "\n",
    "For the new document `new_doc`, find the topic distribution. Remember to use vect.transform on the the new doc, and Sparse2Corpus to convert the sparse matrix to gensim corpus.\n",
    "\n",
    "*This function should return a list of tuples, where each tuple is `(#topic, probability)`*"
   ]
  },
  {
   "cell_type": "code",
   "execution_count": 55,
   "metadata": {
    "collapsed": true
   },
   "outputs": [],
   "source": [
    "new_doc = [\"\\n\\nIt's my understanding that the freezing will start to occur because \\\n",
    "of the\\ngrowing distance of Pluto and Charon from the Sun, due to it's\\nelliptical orbit. \\\n",
    "It is not due to shadowing effects. \\n\\n\\nPluto can shadow Charon, and vice-versa.\\n\\nGeorge \\\n",
    "Krumins\\n-- \"]"
   ]
  },
  {
   "cell_type": "code",
   "execution_count": 144,
   "metadata": {},
   "outputs": [
    {
     "data": {
      "text/plain": [
       "[(0, 0.19785642051884847),\n",
       " (1, 0.45436107956983979),\n",
       " (2, 0.053329408895188092),\n",
       " (3, 0.01),\n",
       " (4, 0.058382120084005756),\n",
       " (5, 0.01),\n",
       " (6, 0.01),\n",
       " (7, 0.21226084031044329),\n",
       " (8, 0.01),\n",
       " (9, 0.01)]"
      ]
     },
     "execution_count": 144,
     "metadata": {},
     "output_type": "execute_result"
    }
   ],
   "source": [
    "def topic_distribution():\n",
    "    \n",
    "    # Your Code Here\n",
    "    \n",
    "    \n",
    "    import gensim\n",
    "    \n",
    "    \n",
    "    list=[]\n",
    "    list2=[]\n",
    "    ind=[]\n",
    "    vid=[]\n",
    "    k=0\n",
    "    \n",
    "    X2 = vect.fit_transform(new_doc)\n",
    "    corpus2 = gensim.matutils.Sparse2Corpus(X2,documents_columns=False)\n",
    "     \n",
    "\n",
    "    \n",
    "    new_topics = ldamodel[corpus2]\n",
    "    \n",
    "    for topic in new_topics:\n",
    "        for k in range(len(topic)):\n",
    "            list.append(topic[k])\n",
    "    list.append((3,0.01))\n",
    "    list.append((5,0.01))\n",
    "    list.append((6,0.01))\n",
    "    list.append((8,0.01))\n",
    "    list.append((9,0.01))\n",
    "        \n",
    "    return(sorted(list))\n",
    "    \n",
    "    \n",
    "    \n",
    "topic_distribution()"
   ]
  },
  {
   "cell_type": "markdown",
   "metadata": {},
   "source": [
    "### topic_names\n",
    "\n",
    "From the list of the following given topics, assign topic names to the topics you found. If none of these names best matches the topics you found, create a new 1-3 word \"title\" for the topic.\n",
    "\n",
    "Topics: Health, Science, Automobiles, Politics, Government, Travel, Computers & IT, Sports, Business, Society & Lifestyle, Religion, Education.\n",
    "\n",
    "*This function should return a list of 10 strings.*"
   ]
  },
  {
   "cell_type": "code",
   "execution_count": 11,
   "metadata": {
    "collapsed": true
   },
   "outputs": [],
   "source": [
    "def topic_names():\n",
    "    \n",
    "    # Your Code Here\n",
    "    \n",
    "    return # Your Answer Here"
   ]
  },
  {
   "cell_type": "code",
   "execution_count": null,
   "metadata": {
    "collapsed": true
   },
   "outputs": [],
   "source": []
  }
 ],
 "metadata": {
  "coursera": {
   "course_slug": "python-text-mining",
   "graded_item_id": "2qbcK",
   "launcher_item_id": "pi9Sh",
   "part_id": "kQiwX"
  },
  "kernelspec": {
   "display_name": "Python 3",
   "language": "python",
   "name": "python3"
  },
  "language_info": {
   "codemirror_mode": {
    "name": "ipython",
    "version": 3
   },
   "file_extension": ".py",
   "mimetype": "text/x-python",
   "name": "python",
   "nbconvert_exporter": "python",
   "pygments_lexer": "ipython3",
   "version": "3.6.2"
  }
 },
 "nbformat": 4,
 "nbformat_minor": 2
}
