{
 "cells": [
  {
   "cell_type": "markdown",
   "metadata": {},
   "source": [
    "---\n",
    "\n",
    "_You are currently looking at **version 1.1** of this notebook. To download notebooks and datafiles, as well as get help on Jupyter notebooks in the Coursera platform, visit the [Jupyter Notebook FAQ](https://www.coursera.org/learn/python-text-mining/resources/d9pwm) course resource._\n",
    "\n",
    "---"
   ]
  },
  {
   "cell_type": "markdown",
   "metadata": {},
   "source": [
    "# Assignment 3\n",
    "\n",
    "In this assignment you will explore text message data and create models to predict if a message is spam or not. "
   ]
  },
  {
   "cell_type": "code",
   "execution_count": 1,
   "metadata": {
    "collapsed": true
   },
   "outputs": [],
   "source": [
    "import pandas as pd\n",
    "import numpy as np\n",
    "\n",
    "spam_data = pd.read_csv('spam.csv')\n",
    "\n",
    "spam_data['target'] = np.where(spam_data['target']=='spam',1,0)\n"
   ]
  },
  {
   "cell_type": "markdown",
   "metadata": {},
   "source": [
    "### Question 1\n",
    "What percentage of the documents in `spam_data` are spam?\n",
    "\n",
    "*This function should return a float, the percent value (i.e. $ratio * 100$).*"
   ]
  },
  {
   "cell_type": "code",
   "execution_count": 2,
   "metadata": {},
   "outputs": [
    {
     "data": {
      "text/plain": [
       "13.406317300789663"
      ]
     },
     "execution_count": 2,
     "metadata": {},
     "output_type": "execute_result"
    }
   ],
   "source": [
    "def answer_one():\n",
    "    \n",
    "    num=0\n",
    "    \n",
    "    for k in spam_data.index:\n",
    "        num=num+spam_data.loc[k,'target']\n",
    "    ratio=num/len(spam_data)*100 \n",
    "    \n",
    "    return(ratio) #Your answer here\n",
    "\n",
    "answer_one()"
   ]
  },
  {
   "cell_type": "code",
   "execution_count": 3,
   "metadata": {
    "collapsed": true
   },
   "outputs": [],
   "source": [
    "from sklearn.model_selection import train_test_split\n",
    "\n",
    "\n",
    "X_train, X_test, y_train, y_test = train_test_split(spam_data['text'], \n",
    "                                                    spam_data['target'], \n",
    "                                                    random_state=0)"
   ]
  },
  {
   "cell_type": "markdown",
   "metadata": {},
   "source": [
    "### Question 2\n",
    "\n",
    "Fit the training data `X_train` using a Count Vectorizer with default parameters.\n",
    "\n",
    "What is the longest token in the vocabulary?\n",
    "\n",
    "*This function should return a string.*"
   ]
  },
  {
   "cell_type": "code",
   "execution_count": 4,
   "metadata": {},
   "outputs": [
    {
     "data": {
      "text/plain": [
       "'com1win150ppmx3age16subscription'"
      ]
     },
     "execution_count": 4,
     "metadata": {},
     "output_type": "execute_result"
    }
   ],
   "source": [
    "from sklearn.feature_extraction.text import CountVectorizer\n",
    "vect=CountVectorizer().fit(X_train)\n",
    "\n",
    "def answer_two():\n",
    "    \n",
    "    max=0\n",
    "    for wd in vect.get_feature_names():\n",
    "        if len(wd)>max:\n",
    "            max=len(wd)\n",
    "            wd_max=wd             \n",
    "    \n",
    "    return(wd_max) #your answer here\n",
    "\n",
    "answer_two()"
   ]
  },
  {
   "cell_type": "markdown",
   "metadata": {},
   "source": [
    "### Question 3\n",
    "\n",
    "Fit and transform the training data `X_train` using a Count Vectorizer with default parameters.\n",
    "\n",
    "Next, fit a fit a multinomial Naive Bayes classifier model with smoothing `alpha=0.1`. Find the area under the curve (AUC) score using the transformed test data.\n",
    "\n",
    "*This function should return the AUC score as a float.*"
   ]
  },
  {
   "cell_type": "code",
   "execution_count": 5,
   "metadata": {},
   "outputs": [
    {
     "data": {
      "text/plain": [
       "0.97208121827411165"
      ]
     },
     "execution_count": 5,
     "metadata": {},
     "output_type": "execute_result"
    }
   ],
   "source": [
    "from sklearn.naive_bayes import MultinomialNB\n",
    "from sklearn.metrics import roc_auc_score\n",
    "vect=CountVectorizer().fit(X_train)\n",
    "X_train_vect=vect.transform(X_train)\n",
    "X_test_vect=vect.transform(X_test)\n",
    "\n",
    "def answer_three():\n",
    "    classifier1=MultinomialNB(alpha=0.1)\n",
    "    classifier1.fit(X_train_vect,y_train)\n",
    "    predict1=classifier1.predict(X_test_vect)\n",
    "    \n",
    "    \n",
    "    return(roc_auc_score(y_test,predict1)) #Your answer here\n",
    "answer_three()"
   ]
  },
  {
   "cell_type": "markdown",
   "metadata": {},
   "source": [
    "### Question 4\n",
    "\n",
    "Fit and transform the training data `X_train` using a Tfidf Vectorizer with default parameters.\n",
    "\n",
    "What 20 features have the smallest tf-idf and what 20 have the largest tf-idf?\n",
    "\n",
    "Put these features in a two series where each series is sorted by tf-idf value and then alphabetically by feature name. The index of the series should be the feature name, and the data should be the tf-idf.\n",
    "\n",
    "The series of 20 features with smallest tf-idfs should be sorted smallest tfidf first, the list of 20 features with largest tf-idfs should be sorted largest first. \n",
    "\n",
    "*This function should return a tuple of two series\n",
    "`(smallest tf-idfs series, largest tf-idfs series)`.*"
   ]
  },
  {
   "cell_type": "code",
   "execution_count": 6,
   "metadata": {
    "collapsed": true
   },
   "outputs": [],
   "source": [
    "#vectorizer = TfidfVectorizer()\n",
    "#vectors = vectorizer.fit_transform([documentA, documentB])\n",
    "#feature_names = vectorizer.get_feature_names()\n",
    "#dense = vectors.todense()\n",
    "#denselist = dense.tolist()\n",
    "#df = pd.DataFrame(denselist, columns=feature_names)"
   ]
  },
  {
   "cell_type": "code",
   "execution_count": 7,
   "metadata": {},
   "outputs": [
    {
     "data": {
      "text/plain": [
       "(('minuts', 0.26509398671810031),\n",
       " ('latr', 0.2652395168315137),\n",
       " ('suite342', 0.27758829403996355),\n",
       " ('bedroom', 0.28429910444980278),\n",
       " ('08000930705', 0.29382870035971081),\n",
       " ('cr9', 0.29573324585440486),\n",
       " ('miracle', 0.29611981090891809),\n",
       " ('moral', 0.30416249128251421),\n",
       " ('against', 0.33314822907418612),\n",
       " ('85023', 0.34642040225000065),\n",
       " ('36504', 0.37526337637804341),\n",
       " ('w45wq', 0.44594071550194125),\n",
       " ('hg', 0.49153088616695606),\n",
       " ('norm150p', 0.49996214739257056),\n",
       " ('getzed', 0.50287267963191251),\n",
       " ('750', 0.57022701223097216),\n",
       " ('5wb', 0.57818520142251584),\n",
       " ('cabin', 0.60970237909462477),\n",
       " ('2lands', 0.64095140479831203),\n",
       " ('08707509020', 0.69634171539972312),\n",
       " ('anytime', 1.0),\n",
       " ('lei', 1.0),\n",
       " ('anything', 1.0),\n",
       " ('space', 1.0),\n",
       " ('thank', 0.90210652205031949),\n",
       " ('support', 0.84493303443490975),\n",
       " ('havent', 0.75477401163939184),\n",
       " ('those', 0.68231171711839189),\n",
       " ('he', 0.65577556712210572),\n",
       " ('er', 0.65193782479802698),\n",
       " ('where', 0.5853994061030825),\n",
       " ('out', 0.57992440929630851),\n",
       " ('babe', 0.56520348287509448),\n",
       " ('or', 0.55831249370305891),\n",
       " ('thanx', 0.5545184029384328),\n",
       " ('too', 0.54761214897893018),\n",
       " ('life', 0.52397537002762484),\n",
       " ('what', 0.49898965696801245),\n",
       " ('done', 0.41566345483106226),\n",
       " ('st', 0.41415233867306372))"
      ]
     },
     "execution_count": 7,
     "metadata": {},
     "output_type": "execute_result"
    }
   ],
   "source": [
    "from sklearn.feature_extraction.text import TfidfVectorizer\n",
    "from sklearn.linear_model import LogisticRegression \n",
    "\n",
    "def answer_four():\n",
    "    \n",
    "\n",
    "    vect2=TfidfVectorizer(min_df=5).fit(X_train)\n",
    "    Xtrain_V=vect2.transform(X_train)\n",
    "    Xtest_V=vect2.transform(X_test)\n",
    "\n",
    "    \n",
    "\n",
    "    classifier2=LogisticRegression(C=0.1)\n",
    "    classifier2.fit(Xtrain_V,y_train)\n",
    "\n",
    "    \n",
    "    \n",
    "\n",
    "    feature_names=np.array(vect2.get_feature_names())\n",
    "    sorted_tfidf_index = Xtrain_V.max(0).toarray()[0] \n",
    "    names_ind=Xtrain_V.max(0).toarray()[0].argsort()\n",
    "    \n",
    "    \n",
    "          \n",
    "    \n",
    "\n",
    "    \n",
    "    small=sorted_tfidf_index[:20]   \n",
    "    small_names=feature_names[names_ind[:20]]\n",
    "    \n",
    "    largest=sorted_tfidf_index[:-21:-1]   \n",
    "    largest_names=feature_names[names_ind[:-21:-1]]\n",
    "    \n",
    "    \n",
    "    \n",
    "    res=pd.DataFrame(columns=['SmallestTFIDFS','TFIDFS'])\n",
    "    \n",
    "    thes=pd.DataFrame(columns=['LargestTFIDFS','TFIDFS'])\n",
    "    \n",
    "    \n",
    "    for i in range(20):\n",
    "        res.loc[i,'SmallestTFIDFS']=small_names[i]\n",
    "        res.loc[i,'TFIDFS']=small[i]\n",
    "    \n",
    "    for j in range(20):\n",
    "        thes.loc[j,'LargestTFIDFS']=largest_names[j]\n",
    "        thes.loc[j,'TFIDFS']=largest[j]    \n",
    "    \n",
    "    \n",
    "    res0 = res.sort_values('TFIDFS')\n",
    "    thes0= thes.sort_values('TFIDFS',ascending=False)\n",
    "\n",
    "    \n",
    "    \n",
    "    \n",
    "    res2=res0.set_index(['SmallestTFIDFS'])\n",
    "    res3=res2.to_records().tolist() \n",
    "    thes2=thes0.set_index(['LargestTFIDFS'])\n",
    "    thes3=thes2.to_records().tolist()\n",
    "    \n",
    "    \n",
    "    \n",
    "\n",
    "    return(tuple(res3)+tuple(thes3)) #your answer here\n",
    "      \n",
    "    \n",
    "\n",
    "\n",
    "answer_four()"
   ]
  },
  {
   "cell_type": "markdown",
   "metadata": {},
   "source": [
    "### Question 5\n",
    "\n",
    "Fit and transform the training data `X_train` using a Tfidf Vectorizer ignoring terms that have a document frequency strictly lower than **3**.\n",
    "\n",
    "Then fit a multinomial Naive Bayes classifier model with smoothing `alpha=0.1` and compute the area under the curve (AUC) score using the transformed test data.\n",
    "\n",
    "*This function should return the AUC score as a float.*"
   ]
  },
  {
   "cell_type": "code",
   "execution_count": 8,
   "metadata": {},
   "outputs": [
    {
     "data": {
      "text/plain": [
       "0.94162436548223349"
      ]
     },
     "execution_count": 8,
     "metadata": {},
     "output_type": "execute_result"
    }
   ],
   "source": [
    "from sklearn.metrics import roc_auc_score\n",
    "from sklearn.feature_extraction.text import TfidfVectorizer\n",
    "from sklearn import naive_bayes \n",
    "\n",
    "def answer_five():\n",
    "    \n",
    " \n",
    "    \n",
    "    vect3=TfidfVectorizer(min_df=3).fit(X_train)\n",
    "    \n",
    "    Xtrain_V2=vect3.transform(X_train)\n",
    "    Xtest_V2=vect3.transform(X_test)\n",
    "\n",
    "\n",
    "    classifier3=naive_bayes.MultinomialNB(alpha=0.1)\n",
    "    classifier3.fit(Xtrain_V2,y_train)\n",
    "    predicted_labels=classifier3.predict(Xtest_V2)\n",
    "       \n",
    "    \n",
    "    return(roc_auc_score(y_test,predicted_labels)) #Your answer here\n",
    "\n",
    "answer_five()"
   ]
  },
  {
   "cell_type": "markdown",
   "metadata": {},
   "source": [
    "### Question 6\n",
    "\n",
    "What is the average length of documents (number of characters) for not spam and spam documents?\n",
    "\n",
    "*This function should return a tuple (average length not spam, average length spam).*"
   ]
  },
  {
   "cell_type": "code",
   "execution_count": 9,
   "metadata": {},
   "outputs": [
    {
     "data": {
      "text/plain": [
       "(71.02362694300518, 138.8661311914324)"
      ]
     },
     "execution_count": 9,
     "metadata": {},
     "output_type": "execute_result"
    }
   ],
   "source": [
    "def answer_six():\n",
    "    nsp=0\n",
    "    lnsp=0\n",
    "    spm=0\n",
    "    lspm=0\n",
    "    for k in range(len(spam_data)):\n",
    "        disc=spam_data.loc[k,'target']\n",
    "        lon=len(spam_data.loc[k,'text'])\n",
    "              \n",
    "        if disc==0:\n",
    "            nsp=nsp+1\n",
    "            lnsp=lnsp+lon\n",
    "        else: \n",
    "            spm=spm+1\n",
    "            lspm=lspm+lon  \n",
    "    \n",
    "    return(lnsp/nsp,lspm/spm) #Your answer here\n",
    "\n",
    "answer_six()"
   ]
  },
  {
   "cell_type": "markdown",
   "metadata": {},
   "source": [
    "<br>\n",
    "<br>\n",
    "The following function has been provided to help you combine new features into the training data:"
   ]
  },
  {
   "cell_type": "code",
   "execution_count": 10,
   "metadata": {
    "collapsed": true
   },
   "outputs": [],
   "source": [
    "#Muy Importante : funcion para añadir nuevas features adicionales al propio texto . Si trataramos de rehacer desde cero\n",
    "#el cuerpo de las features resultaría muy complicado . Con esta función se automatiza el proceso radicalmente. Las features\n",
    "#adicionales se añaden ya una vez está vectorizada la data principal."
   ]
  },
  {
   "cell_type": "code",
   "execution_count": 11,
   "metadata": {
    "collapsed": true
   },
   "outputs": [],
   "source": [
    "def add_feature(X, feature_to_add):\n",
    "    \"\"\"\n",
    "    Returns sparse feature matrix with added feature.\n",
    "    feature_to_add can also be a list of features.\n",
    "    \"\"\"\n",
    "    from scipy.sparse import csr_matrix, hstack\n",
    "    return hstack([X, csr_matrix(feature_to_add).T], 'csr')"
   ]
  },
  {
   "cell_type": "markdown",
   "metadata": {},
   "source": [
    "### Question 7\n",
    "\n",
    "Fit and transform the training data X_train using a Tfidf Vectorizer ignoring terms that have a document frequency strictly lower than **5**.\n",
    "\n",
    "Using this document-term matrix and an additional feature, **the length of document (number of characters)**, fit a Support Vector Classification model with regularization `C=10000`. Then compute the area under the curve (AUC) score using the transformed test data.\n",
    "\n",
    "*This function should return the AUC score as a float.*"
   ]
  },
  {
   "cell_type": "code",
   "execution_count": 12,
   "metadata": {},
   "outputs": [
    {
     "data": {
      "text/plain": [
       "0.95813668234215565"
      ]
     },
     "execution_count": 12,
     "metadata": {},
     "output_type": "execute_result"
    }
   ],
   "source": [
    "from sklearn.svm import SVC\n",
    "from sklearn.model_selection import train_test_split\n",
    "from sklearn.metrics import roc_auc_score\n",
    "from sklearn.feature_extraction.text import TfidfVectorizer\n",
    "from sklearn import svm\n",
    "\n",
    "\n",
    "def answer_seven(): \n",
    "\n",
    "    \n",
    "    \n",
    "    X_train, X_test, y_train, y_test = train_test_split(spam_data['text'],spam_data['target'],random_state=0)   \n",
    "                \n",
    "    \n",
    "    vect4=TfidfVectorizer(min_df=5).fit(X_train)\n",
    "   \n",
    "    \n",
    "    \n",
    "    \n",
    "    \n",
    "    X_train_V3=vect4.transform(X_train)\n",
    "    X_train_V32=add_feature ( X_train_V3 , X_train.str.len() )\n",
    "    \n",
    "\n",
    "    \n",
    "    X_test_V3=vect4.transform(X_test)\n",
    "    X_test_V32=add_feature ( X_test_V3 , X_test.str.len( ))    \n",
    "\n",
    "\n",
    "\n",
    "    \n",
    "    classifier4=svm.SVC(C=10000)\n",
    "    classifier4.fit(X_train_V32,y_train)\n",
    "    predicted_labels=classifier4.predict(X_test_V32)\n",
    "    \n",
    "\n",
    "    \n",
    "    return(roc_auc_score(y_test,predicted_labels)) #Your answer here\n",
    "\n",
    "    \n",
    "\n",
    "\n",
    "\n",
    "answer_seven()"
   ]
  },
  {
   "cell_type": "markdown",
   "metadata": {},
   "source": [
    "### Question 8\n",
    "\n",
    "What is the average number of digits per document for not spam and spam documents?\n",
    "\n",
    "*This function should return a tuple (average # digits not spam, average # digits spam).*"
   ]
  },
  {
   "cell_type": "code",
   "execution_count": 13,
   "metadata": {},
   "outputs": [
    {
     "data": {
      "text/plain": [
       "(0.2992746113989637, 15.759036144578314)"
      ]
     },
     "execution_count": 13,
     "metadata": {},
     "output_type": "execute_result"
    }
   ],
   "source": [
    "def answer_eight():\n",
    "\n",
    "    import re    \n",
    "    \n",
    "    count_CS_Spam=0\n",
    "    count_Spam=0\n",
    "    count_CS_NSpam=0\n",
    "    count_NSpam=0\n",
    "    \n",
    "    \n",
    "    for k in range(len(spam_data)) :\n",
    "        txt2=spam_data.loc[k,'text']\n",
    "        TG=spam_data.loc[k,'target']\n",
    "        NumCS=len(re.findall(r'[0-9]',txt2))\n",
    "        if TG==1 :\n",
    "            count_Spam=count_Spam+1\n",
    "            count_CS_Spam=count_CS_Spam+NumCS\n",
    "        else  : \n",
    "            count_NSpam=count_NSpam+1    \n",
    "            count_CS_NSpam=count_CS_NSpam+NumCS    \n",
    "                             \n",
    "    \n",
    "    return((count_CS_NSpam/count_NSpam,count_CS_Spam/count_Spam)) #your answer here\n",
    "    \n",
    "\n",
    "\n",
    "\n",
    "\n",
    "\n",
    "answer_eight()\n",
    "    \n",
    "    "
   ]
  },
  {
   "cell_type": "markdown",
   "metadata": {},
   "source": [
    "### Question 9\n",
    "\n",
    "Fit and transform the training data `X_train` using a Tfidf Vectorizer ignoring terms that have a document frequency strictly lower than **5** and using **word n-grams from n=1 to n=3** (unigrams, bigrams, and trigrams).\n",
    "\n",
    "Using this document-term matrix and the following additional features:\n",
    "* the length of document (number of characters)\n",
    "* **number of digits per document**\n",
    "\n",
    "fit a Logistic Regression model with regularization `C=100`. Then compute the area under the curve (AUC) score using the transformed test data.\n",
    "\n",
    "*This function should return the AUC score as a float.*"
   ]
  },
  {
   "cell_type": "code",
   "execution_count": 14,
   "metadata": {},
   "outputs": [
    {
     "data": {
      "text/plain": [
       "0.96533283533945646"
      ]
     },
     "execution_count": 14,
     "metadata": {},
     "output_type": "execute_result"
    }
   ],
   "source": [
    "from sklearn.linear_model import LogisticRegression\n",
    "import re\n",
    "\n",
    "def answer_nine():\n",
    "  \n",
    "\n",
    "   \n",
    "    \n",
    "\n",
    "    X_train, X_test, y_train, y_test = train_test_split(spam_data['text'],spam_data['target'],random_state=0)   \n",
    "    \n",
    "    ################## creamos las nuevas features digits y len en el data frame original #################################  \n",
    "    for k in range(len(spam_data)) :\n",
    "        spam_data.loc[k,'digits']=0\n",
    "    for k in range(len(spam_data)) :\n",
    "        txt2=spam_data.loc[k,'text']\n",
    "        spam_data.loc[k,'digits']=len(re.findall(r'[0-9]',txt2))    \n",
    "                    \n",
    "    #########################################################################################################################\n",
    "    \n",
    "    \n",
    "    \n",
    "   \n",
    "    vect4=TfidfVectorizer(min_df=5,ngram_range=(1,3)).fit(X_train)   \n",
    "    X_train_V3=vect4.transform(X_train) \n",
    "    X_test_V3=vect4.transform(X_test)\n",
    "     \n",
    "\n",
    "    X_train_V32=add_feature (X_train_V3,X_train.str.len( )) ### añadimos la longitud del mensaje con esa variable auto-construida \n",
    "    X_test_V32=add_feature (X_test_V3,X_test.str.len( ))    ### añadimos la longitud del mensaje con esa variable auto-construida\n",
    "    \n",
    "\n",
    "    \n",
    "    digitosTr=[]\n",
    "    digitosTt=[]\n",
    "   \n",
    "    ##### asociamos la nueva 'digitos' al correspondiente indice de la variable X_train y X_test y así poder añadirla #########\n",
    "    ##### a diferencia del caso anterior ahora no tenemos una variable auto construida y hay que construir le serie   #########  \n",
    "\n",
    "    for k in X_train.index: \n",
    "        digitosTr.append(spam_data.loc[k,'digits'])\n",
    "    for l in X_test.index: \n",
    "        digitosTt.append(spam_data.loc[l,'digits'])    \n",
    "        \n",
    "        \n",
    "     \n",
    "    X_train_V33=add_feature(X_train_V32,digitosTr)\n",
    "    X_test_V33=add_feature(X_test_V32,digitosTt)\n",
    "        \n",
    "                \n",
    "    classifier4=LogisticRegression(C=100)\n",
    "    classifier4.fit(X_train_V33,y_train)\n",
    "    predicted_labels=classifier4.predict(X_test_V33)\n",
    "    \n",
    "    return(roc_auc_score(y_test,predicted_labels)) #Your answer here\n",
    "\n",
    "answer_nine()"
   ]
  },
  {
   "cell_type": "markdown",
   "metadata": {},
   "source": [
    "### Question 10\n",
    "\n",
    "What is the average number of non-word characters (anything other than a letter, digit or underscore) per document for not spam and spam documents?\n",
    "\n",
    "*Hint: Use `\\w` and `\\W` character classes*\n",
    "\n",
    "*This function should return a tuple (average # non-word characters not spam, average # non-word characters spam).*"
   ]
  },
  {
   "cell_type": "code",
   "execution_count": 15,
   "metadata": {},
   "outputs": [
    {
     "data": {
      "text/plain": [
       "(17.29181347150259, 29.041499330655956)"
      ]
     },
     "execution_count": 15,
     "metadata": {},
     "output_type": "execute_result"
    }
   ],
   "source": [
    "import re\n",
    "def answer_ten():\n",
    "    \n",
    "    \n",
    "    count_CS_Spam=0\n",
    "    count_Spam=0\n",
    "    count_CS_NSpam=0\n",
    "    count_NSpam=0\n",
    "    \n",
    "    \n",
    "    for k in range(len(spam_data)) :\n",
    "        txt2=spam_data.loc[k,'text']\n",
    "        TG=spam_data.loc[k,'target']\n",
    "        NumCS=len(re.findall(r'[\\W]',txt2))\n",
    "        if TG==1 :\n",
    "            count_Spam=count_Spam+1\n",
    "            count_CS_Spam=count_CS_Spam+NumCS\n",
    "        else  : \n",
    "            count_NSpam=count_NSpam+1    \n",
    "            count_CS_NSpam=count_CS_NSpam+NumCS    \n",
    "                             \n",
    "    \n",
    "    return((count_CS_NSpam/count_NSpam,count_CS_Spam/count_Spam)) #your answer here\n",
    "    \n",
    "    \n",
    "answer_ten()"
   ]
  },
  {
   "cell_type": "markdown",
   "metadata": {},
   "source": [
    "### Question 11\n",
    "\n",
    "Fit and transform the training data X_train using a Count Vectorizer ignoring terms that have a document frequency strictly lower than **5** and using **character n-grams from n=2 to n=5.**\n",
    "\n",
    "To tell Count Vectorizer to use character n-grams pass in `analyzer='char_wb'` which creates character n-grams only from text inside word boundaries. This should make the model more robust to spelling mistakes.\n",
    "\n",
    "Using this document-term matrix and the following additional features:\n",
    "* the length of document (number of characters)\n",
    "* number of digits per document\n",
    "* **number of non-word characters (anything other than a letter, digit or underscore.)**\n",
    "\n",
    "fit a Logistic Regression model with regularization C=100. Then compute the area under the curve (AUC) score using the transformed test data.\n",
    "\n",
    "Also **find the 10 smallest and 10 largest coefficients from the model** and return them along with the AUC score in a tuple.\n",
    "\n",
    "The list of 10 smallest coefficients should be sorted smallest first, the list of 10 largest coefficients should be sorted largest first.\n",
    "\n",
    "The three features that were added to the document term matrix should have the following names should they appear in the list of coefficients:\n",
    "['length_of_doc', 'digit_count', 'non_word_char_count']\n",
    "\n",
    "*This function should return a tuple `(AUC score as a float, smallest coefs list, largest coefs list)`.*"
   ]
  },
  {
   "cell_type": "code",
   "execution_count": 16,
   "metadata": {},
   "outputs": [
    {
     "data": {
      "text/plain": [
       "[0.95097023920683155,\n",
       " [('ì_ wan',),\n",
       "  ('for 1st',),\n",
       "  ('about me',),\n",
       "  ('me if',),\n",
       "  ('for my',),\n",
       "  ('my dad',),\n",
       "  ('lt gt',),\n",
       "  ('which is',),\n",
       "  ('need to',),\n",
       "  ('going to',)],\n",
       " [('ì_ wan',),\n",
       "  ('for 1st',),\n",
       "  ('about me',),\n",
       "  ('me if',),\n",
       "  ('for my',),\n",
       "  ('my dad',),\n",
       "  ('lt gt',),\n",
       "  ('which is',),\n",
       "  ('need to',),\n",
       "  ('going to',)]]"
      ]
     },
     "execution_count": 16,
     "metadata": {},
     "output_type": "execute_result"
    }
   ],
   "source": [
    "def answer_eleven():\n",
    "    \n",
    "\n",
    "    X_train, X_test, y_train, y_test = train_test_split(spam_data['text'],spam_data['target'],random_state=0)   \n",
    "    \n",
    "    ################## creamos las nuevas features digits, len y caracteres especiales en el data frame original ###\n",
    "    for k in range(len(spam_data)) :\n",
    "        spam_data.loc[k,'digits']=0    \n",
    "        spam_data.loc[k,'SSCC']=0\n",
    "    for k in range(len(spam_data)) :\n",
    "        \n",
    "        txt2=spam_data.loc[k,'text']\n",
    "        NumCS=len(re.findall(r'[\\w]',txt2))\n",
    "        spam_data.loc[k,'SSCC']=NumCS\n",
    "        spam_data.loc[k,'digits']=len(re.findall(r'[0-9]',txt2))\n",
    "        \n",
    "        \n",
    "        ##########################################################################################################################################\n",
    "    \n",
    "   \n",
    "    vect5=CountVectorizer(min_df=5,ngram_range=(2,5)).fit(X_train)\n",
    "     \n",
    "    X_train_V5=vect5.transform(X_train) \n",
    "    X_test_V5=vect5.transform(X_test)\n",
    "     \n",
    "\n",
    "    X_train_V52=add_feature (X_train_V5,X_train.str.len( )) ### añadimos la longitud del mensaje con esa variable auto-construida \n",
    "    X_test_V52=add_feature (X_test_V5,X_test.str.len( ))    ### añadimos la longitud del mensaje con esa variable auto-construida\n",
    "    \n",
    "\n",
    "    \n",
    "    digitosTr=[]\n",
    "    digitosTt=[]\n",
    "    \n",
    "    SSCCTr=[]\n",
    "    SSCCTt=[]\n",
    "   \n",
    "    ##### asociamos las nuevas features 'digitos' y 'CCSS'al correspondiente indice de la variable X_train y X_test y así poder añadirla #########\n",
    "    ##### a diferencia del caso anterior ahora no tenemos una variable auto construida y hay que construir le serie   ############################  \n",
    "    \n",
    "    for k in X_train.index: \n",
    "        digitosTr.append(spam_data.loc[k,'digits'])\n",
    "    for l in X_test.index: \n",
    "        digitosTt.append(spam_data.loc[l,'digits'])    \n",
    "     \n",
    "    X_train_V53=add_feature(X_train_V52,digitosTr)\n",
    "    X_test_V53=add_feature(X_test_V52,digitosTt)\n",
    "    \n",
    "      \n",
    "    for m in X_train.index: \n",
    "        SSCCTr.append(spam_data.loc[m,'SSCC'])\n",
    "    for n in X_test.index: \n",
    "        SSCCTt.append(spam_data.loc[n,'SSCC'])    \n",
    "     \n",
    "    X_train_V54=add_feature(X_train_V53,SSCCTr)\n",
    "    X_test_V54=add_feature(X_test_V53,SSCCTt)\n",
    "    \n",
    "    \n",
    "    ################################  ENTTRENAMIENTO DEL MODELO  ################################################################################  \n",
    "        \n",
    "                \n",
    "    classifier5=LogisticRegression(C=100)\n",
    "    classifier5.fit(X_train_V54,y_train)\n",
    "    predicted_labels=classifier5.predict(X_test_V54)\n",
    "    \n",
    "    ################################  salidad del modelo  #######################################################################################\n",
    "    \n",
    "\n",
    "    \n",
    "   \n",
    "\n",
    "    \n",
    "    \n",
    "    feature_names=np.array(vect5.get_feature_names())\n",
    "    sorted_coef_index=classifier5.coef_[0].argsort()\n",
    "    \n",
    "    \n",
    "    \n",
    "    smallest=list(feature_names[sorted_coef_index[:10]])\n",
    "    largest=list(feature_names[sorted_coef_index[-1:-11:-1]])\n",
    "    \n",
    "    sm=pd.DataFrame(columns=['smallest'])\n",
    "    lg=pd.DataFrame(columns=['largest'])\n",
    "\n",
    "    \n",
    "    \n",
    "\n",
    "    for i in range(10):\n",
    "        sm.loc[i,'smallest']=str(smallest[i])\n",
    "    for k in range(10):    \n",
    "        lg.loc[k,'largest']=str(largest[i])\n",
    "    \n",
    "    smallest=sm.to_records(index=False).tolist()\n",
    "    largest=sm.to_records(index=False).tolist()\n",
    "            \n",
    "    return(([roc_auc_score(y_test,predicted_labels),smallest,largest])) #your answer here\n",
    "\n",
    "    \n",
    "    \n",
    "     \n",
    "\n",
    "answer_eleven()    "
   ]
  },
  {
   "cell_type": "code",
   "execution_count": null,
   "metadata": {
    "collapsed": true
   },
   "outputs": [],
   "source": []
  },
  {
   "cell_type": "code",
   "execution_count": null,
   "metadata": {
    "collapsed": true
   },
   "outputs": [],
   "source": []
  }
 ],
 "metadata": {
  "coursera": {
   "course_slug": "python-text-mining",
   "graded_item_id": "Pn19K",
   "launcher_item_id": "y1juS",
   "part_id": "ctlgo"
  },
  "kernelspec": {
   "display_name": "Python 3",
   "language": "python",
   "name": "python3"
  },
  "language_info": {
   "codemirror_mode": {
    "name": "ipython",
    "version": 3
   },
   "file_extension": ".py",
   "mimetype": "text/x-python",
   "name": "python",
   "nbconvert_exporter": "python",
   "pygments_lexer": "ipython3",
   "version": "3.6.2"
  }
 },
 "nbformat": 4,
 "nbformat_minor": 2
}
